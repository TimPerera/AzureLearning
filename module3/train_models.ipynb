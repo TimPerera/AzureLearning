{
 "cells": [
  {
   "cell_type": "code",
   "execution_count": 5,
   "source": [
    "import azureml.core\n",
    "from azureml.core import Workspace\n",
    "import os, shutil\n",
    "\n",
    "ws = Workspace.from_config()\n",
    "print(f'Azure ML Version: {azureml.core.VERSION}. Workspace Name: {ws.name}')\n"
   ],
   "outputs": [
    {
     "output_type": "stream",
     "name": "stdout",
     "text": [
      "Azure ML Version: 1.53.0. Workspace Name: mlw-dp100-labs\n"
     ]
    }
   ],
   "metadata": {}
  },
  {
   "cell_type": "code",
   "execution_count": 10,
   "source": [
    "# Training Script\n",
    "training_folder = 'diabetes-training'\n",
    "os.makedirs(training_folder, exist_ok=True)\n",
    "os.makedirs('data', exist_ok=True)\n",
    "shutil.copy('data/diabetes.csv', os.path.join(training_folder, 'diabetes.csv'))"
   ],
   "outputs": [
    {
     "output_type": "execute_result",
     "data": {
      "text/plain": [
       "'diabetes-training/diabetes.csv'"
      ]
     },
     "metadata": {},
     "execution_count": 10
    }
   ],
   "metadata": {}
  },
  {
   "cell_type": "code",
   "execution_count": null,
   "source": [
    "%%writefile training_folder/diabetes_training.py\n",
    "\n",
    "from azureml.core import Run \n",
    "import pandas as pd\n",
    "import numpy as np\n",
    "import joblib\n",
    "import os\n",
    "from sklearn.model_selection import train_test_split\n",
    "from sklearn.linear_model import LogisticRegression\n",
    "from sklearn.metrics import roc_auc_score, roc_curve\n",
    "\n",
    "run = Run.get_context()\n",
    "print('run context:\\n',run)\n",
    "\n",
    "print('Loading Data')\n",
    "data = pd.read_csv('./diabetes.csv')\n",
    "X, y = data[['Pregnancies','PlasmaGlucose','DiastolicBloodPressure','TricepsThickness','SerumInsulin','BMI','DiabetesPedigree','Age']].values, data['Diabetic'].values\n",
    "X_train, X_test, y_train, y_test = train_test_split(X,y, test_size=0.3, random_state=0)\n",
    "\n",
    "# Regularization state\n",
    "reg = 0.01\n",
    "\n",
    "# Train Logistic Regression Model\n",
    "print('Training a logistic regression model with a regularization rate of',reg)\n",
    "run.log('Regularization Rate',np.float(reg))\n",
    "model = LogisticRegression(C=1/reg, solver='liblinear').fit(X_train, y_train)\n",
    "\n",
    "predicted = model.predict(X_test)\n",
    "accuracy = np.average(predicted==y_test)\n",
    "print('Accuracy:',accuracy)\n",
    "run.log('Accuracy',accuracy)\n",
    "\n",
    "# Calculating AUC\n",
    "pred_probs = model.predict_proba(X_test)\n",
    "auc = roc_auc_score(y_test, pred_probs[:,1])\n",
    "print('AUC:',auc)\n",
    "run.log('AUC',np.float(auc))\n",
    "\n",
    "# Saving the trained model \n",
    "os.makedirs('output',exist_ok=True)\n",
    "joblib.dump(value=model, filename='outputs/diabetes_model.pkl')\n",
    "\n",
    "run.complete()\n"
   ],
   "outputs": [],
   "metadata": {}
  },
  {
   "cell_type": "code",
   "execution_count": null,
   "source": [
    "# To run the function ScriptRunConfig, we'll need a compute cluster. \n",
    "from azureml.core.compute import ComputeTarget, AmlCompute\n",
    "from azureml.core.compute_target import ComputeTargetException\n",
    "\n",
    "cluster_name = 'diabetes-compute-cluster'\n",
    "\n",
    "try:\n",
    "    # Check for existing compute target.\n",
    "    training_cluster = ComputeTarget(workspace=ws, name=cluster_name)\n",
    "except ComputeTargetException:\n",
    "    try: # creating the target if it doesn't already exist\n",
    "        compute_config = AmlCompute.provisioning_configuration(vm_size='STANDARD_DS11_v2',max_nodes=2)\n",
    "        training_cluster = ComputeTarget.create(ws, cluster_name, compute_config) #note the use of the create method.\n",
    "        training_cluster.wait_for_completion(show_output=True)\n",
    "    except Exception as e:\n",
    "        print(e)\n",
    "    "
   ],
   "outputs": [],
   "metadata": {}
  },
  {
   "cell_type": "code",
   "execution_count": null,
   "source": [
    "# Running the training script as an experiment\n",
    "from azureml.core import Experiment, ScriptRunConfig, Environment\n",
    "from azureml.core.runconfig import DockerConfiguration\n",
    "from azureml.widgets import RunDetails \n",
    "\n",
    "# Creating python environment:\n",
    "env = Environment.from_conda_specification('environment','./diabetes-training/environment.yml')\n",
    "\n",
    "script_config = ScriptRunConfig(training_folder,\n",
    "                                script='diabetes_training/diabetes_training.py',\n",
    "                                environment = env,\n",
    "                                docker_run_time_config=DockerConfiguration(use_docker=True),\n",
    "                                compute_target=cluster_name)\n",
    "\n",
    "# submit the experiment\n",
    "experiment_name = 'mslearn-train-diabetes'\n",
    "experiment = Experiment(workspace=ws, name=experiment_name)\n",
    "run = experiment.run(config=script_config)\n",
    "RunDetails(run).show()\n",
    "\n",
    "run.wait_for_completion()\n",
    "\n",
    "\n"
   ],
   "outputs": [],
   "metadata": {}
  },
  {
   "cell_type": "code",
   "execution_count": null,
   "source": [
    "# Get logged metrics\n",
    "metrics = run.get_metrics()\n",
    "\n",
    "for key, value in metrics.items():\n",
    "    print(key, value)\n",
    "\n",
    "print('Files:')\n",
    "for file in run.get_file_names():\n",
    "    print(file)"
   ],
   "outputs": [],
   "metadata": {}
  },
  {
   "cell_type": "code",
   "execution_count": null,
   "source": [
    "# Registering Model\n",
    "from azureml.core import Model\n",
    "\n",
    "run.register_model(model_path='outputs/diabetes_model.pkl', model_name='diabetes_model',\n",
    "                   tags={'Training context':'Script'},\n",
    "                   properties={'AUC':run.get_metrics()['AUC'], 'Accuracy':run.get_metrics()['Accuracy']})\n",
    "\n",
    "# Listing registered models\n",
    "for model in Model.list(ws):\n",
    "    print(model.name, 'version:',model.version)\n",
    "    for tag_name in model.tags:\n",
    "        tag = model.tags[tag_name]\n",
    "        print('\\t', tag_name,':', tag)\n",
    "    for prop_name in model.properties:\n",
    "        prop = model.properties[prop_name]\n",
    "        print('\\t', prop_name,':', prop)\n",
    "    print('\\n')"
   ],
   "outputs": [],
   "metadata": {}
  },
  {
   "cell_type": "code",
   "execution_count": null,
   "source": [
    "%% writefile diabetes-training/flex_diabetes_training.py\n",
    "# To create a parameterized training script where the user has the ability to choose the regularization\n",
    "# rate, we can use argparse. \n",
    "import argparse\n",
    "import pandas as pd\n",
    "import numpy as np\n",
    "from azureml.core import Run\n",
    "from azureml.core.script_run_config import ScriptRunConfig\n",
    "from sklearn.model_selection import train_test_split\n",
    "from sklearn.metrics import roc_curve, roc_auc_score\n",
    "from sklearn.linear_model import LogisticRegression\n",
    "import joblib\n",
    "import os\n",
    "\n",
    "# Get experiment run context\n",
    "Run.get_context() # config json file already exists \n",
    "\n",
    "# Set regularization rate\n",
    "parser = argparse.ArgumentParser()\n",
    "parser.add_argument('--reg-rate', default=0.01, type=float, dest='reg')\n",
    "args = parser.parse_args()\n",
    "reg = args.reg\n",
    "\n",
    "# Load the dataset \n",
    "data = pd.read_csv('data/diabetes.csv')\n",
    "print('Loaded data.')\n",
    "\n",
    "# seperate features and label\n",
    "X, y = data[['Pregnancies','PlasmaGlucose','DiastolicBloodPressure','TricepsThickness','SerumInsulin','BMI','DiabetesPedigree','Age']].values, data['Diabetic'].values\n",
    "X_train, X_test, y_train, y_test = train_test_split(X,y, test_size = 0.3, random_state=0)\n",
    "\n",
    "# Train a logistic model\n",
    "run.log('Regularization Rate', np.float(reg))\n",
    "model = LogisticRegression(solver = 'liblinear', C=1/reg).fit(X_train, y_train)\n",
    "\n",
    "# Calculate accuracy\n",
    "predicted = model.predict(X_test)\n",
    "accuracy = np.average(predicted==y_test)\n",
    "run.log('Accuracy', np.float(accuracy))\n",
    "\n",
    "# Calculate AUC \n",
    "# Get probabilities and compare them to get the area under curve \n",
    "predicted_probs = model.predict_proba(X_test)\n",
    "auc = roc_auc_score(y_test, predicted_probs[:,1])\n",
    "run.log('AUC',np.float(auc))\n",
    "\n",
    "# Create output file if it doesn't exist \n",
    "os.makedirs('outputs',exist_ok=True)\n",
    "# Save the model \n",
    "joblib.dump(value=model, filename='outputs/flex_diabetes_model.pkl')\n",
    "\n",
    "run.complete()\n"
   ],
   "outputs": [],
   "metadata": {}
  },
  {
   "cell_type": "code",
   "execution_count": null,
   "source": [
    "# Run the script with arguments\n",
    "from azureml.core.environment import Environment\n",
    "from azureml.core.runconfig import DockerConfiguration\n",
    "from azureml.widgets import RunDetails\n",
    "\n",
    "# create python environment \n",
    "env = Environment('flex_model_env', 'environment.yml')\n",
    "\n",
    "script_run_config = ScriptRunConfig(source_directory='diabetes-training',\n",
    "                                    script='flex_diabetes_training',\n",
    "                                    arguments=['--reg-rate'], # course suggests to write it as ['--reg-rate',0.01] but this hardcodes 0.01, therefore is counter-intuitive\n",
    "                                    env = env,\n",
    "                                    docker_runtime_config = DockerConfiguration(use_docker=True),\n",
    "                                    compute_target = cluster_name)\n",
    "\n",
    "# submit the experiment \n",
    "experiment_name = 'mslearn-flex-train-diabetes'\n",
    "experiment = Experiment(workspace=ws, name=experiment_name)\n",
    "run = experiment.submit(config=script_run_config)\n",
    "\n",
    "RunDetails(run).show()\n",
    "run.wait_for_completion()\n"
   ],
   "outputs": [],
   "metadata": {}
  },
  {
   "cell_type": "code",
   "execution_count": null,
   "source": [
    "metrics = run.get_metrics()\n",
    "for key, value in metrics():\n",
    "    print(key, value)\n",
    "\n",
    "for file in run.get_filenames():\n",
    "    print(file)"
   ],
   "outputs": [],
   "metadata": {}
  },
  {
   "cell_type": "code",
   "execution_count": null,
   "source": [
    "# Registering the new model \n",
    "from azureml.core import Model \n",
    "\n",
    "run.register_model(model_path = 'outputs/flex_diabetes_model.pkl', model_name='diabetes_model',\n",
    "                   tags = {'Training context':'Parameterized script'},\n",
    "                   properties={'AUC': run.get_metrics()['AUC'],\n",
    "                               'Accuracy':run.get_metrics()['Accuracy'],\n",
    "                               'Regularization Rate':run.get_metrics()['Regularization Rate']})\n",
    "# List the registered models \n",
    "\n",
    "for model in Model.list(ws):\n",
    "    print(model.name,'version',model.version)\n",
    "    for tag_name in model.tags:\n",
    "        tag = model.tags[tag_name]\n",
    "        print('\\t', tag_name,':', tag)\n",
    "    for prop_name in model.properties:\n",
    "        prop = model.properties[prop_name]\n",
    "        print('\\t', prop_name,':',prop)\n",
    "    print('\\n')\n",
    "            "
   ],
   "outputs": [],
   "metadata": {}
  }
 ],
 "metadata": {
  "orig_nbformat": 4,
  "language_info": {
   "name": "python",
   "version": "3.11.5",
   "mimetype": "text/x-python",
   "codemirror_mode": {
    "name": "ipython",
    "version": 3
   },
   "pygments_lexer": "ipython3",
   "nbconvert_exporter": "python",
   "file_extension": ".py"
  },
  "kernelspec": {
   "name": "python3",
   "display_name": "Python 3.11.5 64-bit ('venv': venv)"
  },
  "interpreter": {
   "hash": "b6d87e6d5f3d71346b72574b45cb1844d9d3bf5fc22fd2475798937cfd609554"
  }
 },
 "nbformat": 4,
 "nbformat_minor": 2
}