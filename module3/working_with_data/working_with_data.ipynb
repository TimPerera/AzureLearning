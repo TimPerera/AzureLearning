{
 "cells": [
  {
   "cell_type": "code",
   "execution_count": 2,
   "source": [
    "import azureml.core\n",
    "from azureml.core import Workspace\n",
    "\n",
    "ws = Workspace.from_config()\n",
    "\n",
    "# Creating Computer Cluster\n",
    "from azureml.core.compute import ComputeTarget, AmlCompute\n",
    "from azureml.core.compute_target import ComputeTargetException\n",
    "\n",
    "cluster_name = 'your-compute-cluster'\n",
    "try:\n",
    "    training_cluster = ComputeTarget(workspace=ws, name=cluster_name)\n",
    "except ComputeTargetException:\n",
    "    try:\n",
    "        compute_config = AmlCompute.provisioning_configuration(vm_size='STANDARD_DS11_V2', max_nodes=2)\n",
    "        training_cluster = ComputeTarget.create(ws, cluster_name, compute_config)\n",
    "        training_cluster.wait_for_completion(show_output=True)\n",
    "    except Exception as e:\n",
    "        print(e)"
   ],
   "outputs": [],
   "metadata": {}
  },
  {
   "cell_type": "code",
   "execution_count": 3,
   "source": [
    "# Datastores are references to storage locations such as Azure Storage blob containers. Every workspace comes with a default datastore. \n",
    "\n",
    "default_ds = ws.get_default_datastore()\n",
    "\n",
    "# loop through all datastores and find which one is actually the default\n",
    "for ds_name in ws.datastores:\n",
    "    print(ds_name,'- Default =', ds_name == default_ds.name)"
   ],
   "outputs": [
    {
     "output_type": "stream",
     "name": "stdout",
     "text": [
      "workspaceworkingdirectory - Default = False\n",
      "workspacefilestore - Default = False\n",
      "workspaceartifactstore - Default = False\n",
      "workspaceblobstore - Default = True\n"
     ]
    }
   ],
   "metadata": {}
  },
  {
   "cell_type": "code",
   "execution_count": 4,
   "source": [
    "datastore = ws.datastores['workspaceblobstore']"
   ],
   "outputs": [],
   "metadata": {}
  },
  {
   "cell_type": "code",
   "execution_count": 5,
   "source": [
    "datastore"
   ],
   "outputs": [
    {
     "output_type": "execute_result",
     "data": {
      "text/plain": [
       "{\n",
       "  \"name\": \"workspaceblobstore\",\n",
       "  \"container_name\": \"azureml-blobstore-db2e5a15-d42a-49d7-b494-181af9d9e23d\",\n",
       "  \"account_name\": \"mlwdp100labs1149010901\",\n",
       "  \"protocol\": \"https\",\n",
       "  \"endpoint\": \"core.windows.net\"\n",
       "}"
      ]
     },
     "metadata": {},
     "execution_count": 5
    }
   ],
   "metadata": {}
  },
  {
   "cell_type": "code",
   "execution_count": 7,
   "source": [
    "# Uploading data to Datastore\n",
    "from azureml.core import Dataset\n",
    "from azureml.data.datapath import DataPath\n",
    "\n",
    "Dataset.File.upload_directory(src_dir='data',target=(datastore,'datas-diabetes'))"
   ],
   "outputs": [
    {
     "output_type": "stream",
     "name": "stdout",
     "text": [
      "Validating arguments.\n",
      "Arguments validated.\n",
      "'overwrite' is set to False. Any file already present in the target will be skipped.'\n",
      "Uploading files from '/Users/timothy/Programming/azure_training/module3/working_with_data/data' to 'datas-diabetes'\n",
      "Copying 1 files with concurrency set to 1\n",
      "Skipped /Users/timothy/Programming/azure_training/module3/working_with_data/data/test_diabetes.csv, file 1 out of 1. Target already exists.\n",
      "Files copied=0, skipped=1, failed=0\n",
      "Creating new dataset\n"
     ]
    },
    {
     "output_type": "execute_result",
     "data": {
      "text/plain": [
       "{\n",
       "  \"source\": [\n",
       "    \"('workspaceblobstore', '/datas-diabetes')\"\n",
       "  ],\n",
       "  \"definition\": [\n",
       "    \"GetDatastoreFiles\"\n",
       "  ]\n",
       "}"
      ]
     },
     "metadata": {},
     "execution_count": 7
    }
   ],
   "metadata": {}
  },
  {
   "cell_type": "code",
   "execution_count": 5,
   "source": [
    "import os\n",
    "path = os.getcwd()\n",
    "print(path)"
   ],
   "outputs": [
    {
     "output_type": "stream",
     "name": "stdout",
     "text": [
      "/Users/timothy/Programming/azure_training/module3/working_with_data\n"
     ]
    }
   ],
   "metadata": {}
  }
 ],
 "metadata": {
  "orig_nbformat": 4,
  "language_info": {
   "name": "python",
   "version": "3.11.5",
   "mimetype": "text/x-python",
   "codemirror_mode": {
    "name": "ipython",
    "version": 3
   },
   "pygments_lexer": "ipython3",
   "nbconvert_exporter": "python",
   "file_extension": ".py"
  },
  "kernelspec": {
   "name": "python3",
   "display_name": "Python 3.11.5 64-bit ('venv')"
  },
  "interpreter": {
   "hash": "6a0ea85c466698ac8e2ea9d6804eb4fbf169cd6f60336e35aa9bff6d4dd39bff"
  }
 },
 "nbformat": 4,
 "nbformat_minor": 2
}